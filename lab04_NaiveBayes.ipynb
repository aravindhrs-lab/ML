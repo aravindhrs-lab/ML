{
  "nbformat": 4,
  "nbformat_minor": 0,
  "metadata": {
    "colab": {
      "name": "lab04_NaiveBayes",
      "provenance": [],
      "collapsed_sections": []
    },
    "kernelspec": {
      "name": "python3",
      "display_name": "Python 3"
    },
    "language_info": {
      "name": "python"
    }
  },
  "cells": [
    {
      "cell_type": "markdown",
      "metadata": {
        "id": "vKOSWqc_jYcl"
      },
      "source": [
        "# Naive Bayes"
      ]
    },
    {
      "cell_type": "code",
      "metadata": {
        "id": "fhPiF7RGhbWe"
      },
      "source": [
        "import csv\n",
        "import random\n",
        "import math"
      ],
      "execution_count": 1,
      "outputs": []
    },
    {
      "cell_type": "code",
      "metadata": {
        "id": "Ab_8cRnkgmJU"
      },
      "source": [
        "def loadcsv(filename):\n",
        "    lines = csv.reader(open(filename, \"r\"));\n",
        "    dataset = list(lines)\n",
        "    for i in range(len(dataset)):\n",
        "        dataset[i] = [float(x) for x in dataset[i]]\n",
        "\n",
        "    return dataset\n",
        "\n",
        "def splitdataset(dataset, splitratio):\n",
        "    trainsize = int(len(dataset) * splitratio);\n",
        "    trainset = []\n",
        "    copy = list(dataset)\n",
        "\n",
        "    while len(trainset) < trainsize:\n",
        "        index = random.randrange(len(copy));\n",
        "        trainset.append(copy.pop(index))\n",
        "        \n",
        "    return [trainset, copy]\n",
        "\n",
        "def separatebyclass(dataset):\n",
        "    separated = {}\n",
        "\n",
        "    for i in range(len(dataset)):\n",
        "        vector = dataset[i]\n",
        "        if (vector[-1] not in separated):\n",
        "            separated[vector[-1]] = []\n",
        "        separated[vector[-1]].append(vector)\n",
        "        \n",
        "    return separated"
      ],
      "execution_count": 2,
      "outputs": []
    },
    {
      "cell_type": "code",
      "metadata": {
        "id": "EW9cYHVyh1bU"
      },
      "source": [
        "def mean(numbers):\n",
        "    return sum(numbers)/float(len(numbers))\n",
        "\n",
        "def stdev(numbers):\n",
        "    avg = mean(numbers)\n",
        "    variance = sum([pow(x-avg,2) for x in numbers])/float(len(numbers)-1)\n",
        "    return math.sqrt(variance)"
      ],
      "execution_count": 3,
      "outputs": []
    },
    {
      "cell_type": "code",
      "metadata": {
        "id": "604Ysy5nh7tp"
      },
      "source": [
        "def summarize(dataset): \n",
        "    summaries = [(mean(attribute), stdev(attribute)) for attribute in zip(*dataset)];\n",
        "    del summaries[-1] \n",
        "    return summaries\n",
        "\n",
        "def summarizebyclass(dataset):\n",
        "    separated = separatebyclass(dataset);\n",
        "\n",
        "    summaries = {}\n",
        "    for classvalue, instances in separated.items():\n",
        "        summaries[classvalue] = summarize(instances)\n",
        "\n",
        "    return summaries   "
      ],
      "execution_count": 4,
      "outputs": []
    },
    {
      "cell_type": "code",
      "metadata": {
        "id": "C7-t54CZiAug"
      },
      "source": [
        "def calculateprobability(x, mean, stdev):\n",
        "    exponent = math.exp(-(math.pow(x-mean,2)/(2*math.pow(stdev,2))))\n",
        "    return (1 / (math.sqrt(2*math.pi) * stdev)) * exponent\n",
        "\n",
        "def calculateclassprobabilities(summaries, inputvector):\n",
        "    probabilities = {}\n",
        "    for classvalue, classsummaries in summaries.items():\n",
        "        probabilities[classvalue] = 1\n",
        "        for i in range(len(classsummaries)):\n",
        "            mean, stdev = classsummaries[i] \n",
        "            x = inputvector[i] \n",
        "            probabilities[classvalue] *= calculateprobability(x, mean, stdev)\n",
        "        return probabilities"
      ],
      "execution_count": 5,
      "outputs": []
    },
    {
      "cell_type": "code",
      "metadata": {
        "id": "rIO9FZ64ivAw"
      },
      "source": [
        "def predict(summaries, inputvector): \n",
        "    probabilities = calculateclassprobabilities(summaries, inputvector)\n",
        "    bestLabel, bestProb = None, -1\n",
        "\n",
        "    for classvalue, probability in probabilities.items():\n",
        "        if bestLabel is None or probability > bestProb:\n",
        "            bestProb = probability\n",
        "            bestLabel = classvalue\n",
        "\n",
        "    return bestLabel\n",
        "\n",
        "def getpredictions(summaries, testset):\n",
        "    predictions = []\n",
        "\n",
        "    for i in range(len(testset)):\n",
        "        result = predict(summaries, testset[i])\n",
        "        predictions.append(result)\n",
        "        \n",
        "    return predictions"
      ],
      "execution_count": 6,
      "outputs": []
    },
    {
      "cell_type": "code",
      "metadata": {
        "id": "P0V8m7SHjEpQ"
      },
      "source": [
        "def getaccuracy(testset, predictions):\n",
        "    correct = 0\n",
        "    for i in range(len(testset)):\n",
        "        if testset[i][-1] == predictions[i]:\n",
        "            correct += 1\n",
        "\n",
        "    return (correct/float(len(testset))) * 100.0"
      ],
      "execution_count": 7,
      "outputs": []
    },
    {
      "cell_type": "markdown",
      "metadata": {
        "id": "qUNdszHQjUFq"
      },
      "source": [
        "## Main"
      ]
    },
    {
      "cell_type": "code",
      "metadata": {
        "colab": {
          "base_uri": "https://localhost:8080/"
        },
        "id": "v2Zflmb0jK24",
        "outputId": "1884764b-2d70-4008-da22-babad8cb88c9"
      },
      "source": [
        "splitratio = 0.7\n",
        "dataset = loadcsv(\"naivedata.csv\");\n",
        "\n",
        "trainingset, testset = splitdataset(dataset, splitratio)\n",
        "print(f'Split {len(dataset)} rows into train = {len(trainingset)} and test = {len(testset)} rows')\n",
        "\n",
        "summaries = summarizebyclass(trainingset)\n",
        "\n",
        "predictions = getpredictions(summaries, testset)\n",
        "\n",
        "accuracy = getaccuracy(testset, predictions)\n",
        "print(f'Accuracy of the classifier is : {accuracy}%')"
      ],
      "execution_count": 8,
      "outputs": [
        {
          "output_type": "stream",
          "text": [
            "Split 768 rows into train = 537 and test = 231 rows\n",
            "Accuracy of the classifier is : 69.6969696969697%\n"
          ],
          "name": "stdout"
        }
      ]
    },
    {
      "cell_type": "markdown",
      "metadata": {
        "id": "tADbbtCumZrS"
      },
      "source": [
        "# Sklearn"
      ]
    },
    {
      "cell_type": "code",
      "metadata": {
        "colab": {
          "base_uri": "https://localhost:8080/"
        },
        "id": "e8cGFIYnmb56",
        "outputId": "02eb4f1e-7bf7-4889-a71e-15ef4cafebb7"
      },
      "source": [
        "import pandas as pd\n",
        "from sklearn.model_selection import train_test_split\n",
        "from sklearn.naive_bayes import GaussianNB\n",
        "from sklearn import metrics\n",
        "\n",
        "# Load data\n",
        "df = pd.read_csv(\"naivedata.csv\")\n",
        "feature_col_names = df.columns[:-1]\n",
        "predicted_class_names = df.columns[-1]\n",
        "\n",
        "X = df[feature_col_names].values\n",
        "y = df[predicted_class_names].values\n",
        "\n",
        "# Prepare data\n",
        "xtrain, xtest, ytrain, ytest = train_test_split(X, y, test_size=0.33)\n",
        "print ('The total number of Training Data :',ytrain.shape)\n",
        "print ('The total number of Test Data :',ytest.shape)\n",
        "\n",
        "# Train\n",
        "clf = GaussianNB().fit(xtrain,ytrain.ravel())\n",
        "predicted = clf.predict(xtest)\n",
        "predictTestData= clf.predict([[6,148,72,35,0,33.6,0.627,50]])\n",
        "\n",
        "# Analysis\n",
        "print('\\nConfusion matrix')\n",
        "print(metrics.confusion_matrix(ytest, predicted))\n",
        "print('\\nAccuracy of the classifier is', metrics.accuracy_score(ytest, predicted)*100)\n",
        "print('The value of Precision:', metrics.precision_score(ytest, predicted))\n",
        "print('The value of Recall:', metrics.recall_score(ytest, predicted))\n",
        "print(\"Predicted Value for individual Test Data:\", predictTestData)"
      ],
      "execution_count": 9,
      "outputs": [
        {
          "output_type": "stream",
          "text": [
            "The total number of Training Data : (513,)\n",
            "The total number of Test Data : (254,)\n",
            "\n",
            "Confusion matrix\n",
            "[[151  31]\n",
            " [ 27  45]]\n",
            "\n",
            "Accuracy of the classifier is 77.16535433070865\n",
            "The value of Precision: 0.5921052631578947\n",
            "The value of Recall: 0.625\n",
            "Predicted Value for individual Test Data: [1]\n"
          ],
          "name": "stdout"
        }
      ]
    }
  ]
}