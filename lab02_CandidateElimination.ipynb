{
  "nbformat": 4,
  "nbformat_minor": 0,
  "metadata": {
    "colab": {
      "name": "lab02_CandidateElimination",
      "provenance": [],
      "collapsed_sections": [],
      "toc_visible": true
    },
    "kernelspec": {
      "name": "python3",
      "display_name": "Python 3"
    },
    "language_info": {
      "name": "python"
    }
  },
  "cells": [
    {
      "cell_type": "markdown",
      "metadata": {
        "id": "opSUq3Xa-ZTc"
      },
      "source": [
        "# lab02_CandidateElimination"
      ]
    },
    {
      "cell_type": "code",
      "metadata": {
        "colab": {
          "base_uri": "https://localhost:8080/",
          "height": 182
        },
        "id": "HWbqvAPh-Upr",
        "outputId": "5f92ff96-a53c-4490-b15b-7961892e42f0"
      },
      "source": [
        "import pandas as pd\n",
        "\n",
        "df = pd.read_csv(\"data.csv\")\n",
        "print(\"Shape\", df.shape)\n",
        "df.head()"
      ],
      "execution_count": 1,
      "outputs": [
        {
          "output_type": "stream",
          "text": [
            "Shape (4, 7)\n"
          ],
          "name": "stdout"
        },
        {
          "output_type": "execute_result",
          "data": {
            "text/html": [
              "<div>\n",
              "<style scoped>\n",
              "    .dataframe tbody tr th:only-of-type {\n",
              "        vertical-align: middle;\n",
              "    }\n",
              "\n",
              "    .dataframe tbody tr th {\n",
              "        vertical-align: top;\n",
              "    }\n",
              "\n",
              "    .dataframe thead th {\n",
              "        text-align: right;\n",
              "    }\n",
              "</style>\n",
              "<table border=\"1\" class=\"dataframe\">\n",
              "  <thead>\n",
              "    <tr style=\"text-align: right;\">\n",
              "      <th></th>\n",
              "      <th>Time</th>\n",
              "      <th>Weather</th>\n",
              "      <th>Temperature</th>\n",
              "      <th>Company</th>\n",
              "      <th>Humidity</th>\n",
              "      <th>Wind</th>\n",
              "      <th>Goes</th>\n",
              "    </tr>\n",
              "  </thead>\n",
              "  <tbody>\n",
              "    <tr>\n",
              "      <th>0</th>\n",
              "      <td>Morning</td>\n",
              "      <td>Sunny</td>\n",
              "      <td>Warm</td>\n",
              "      <td>Yes</td>\n",
              "      <td>Mild</td>\n",
              "      <td>Strong</td>\n",
              "      <td>Yes</td>\n",
              "    </tr>\n",
              "    <tr>\n",
              "      <th>1</th>\n",
              "      <td>Evening</td>\n",
              "      <td>Rainy</td>\n",
              "      <td>Cold</td>\n",
              "      <td>No</td>\n",
              "      <td>Mild</td>\n",
              "      <td>Normal</td>\n",
              "      <td>No</td>\n",
              "    </tr>\n",
              "    <tr>\n",
              "      <th>2</th>\n",
              "      <td>Morning</td>\n",
              "      <td>Sunny</td>\n",
              "      <td>Moderate</td>\n",
              "      <td>Yes</td>\n",
              "      <td>Normal</td>\n",
              "      <td>Normal</td>\n",
              "      <td>Yes</td>\n",
              "    </tr>\n",
              "    <tr>\n",
              "      <th>3</th>\n",
              "      <td>Evening</td>\n",
              "      <td>Sunny</td>\n",
              "      <td>Cold</td>\n",
              "      <td>Yes</td>\n",
              "      <td>High</td>\n",
              "      <td>Strong</td>\n",
              "      <td>Yes</td>\n",
              "    </tr>\n",
              "  </tbody>\n",
              "</table>\n",
              "</div>"
            ],
            "text/plain": [
              "      Time Weather Temperature Company Humidity    Wind Goes\n",
              "0  Morning   Sunny        Warm     Yes     Mild  Strong  Yes\n",
              "1  Evening   Rainy        Cold      No     Mild  Normal   No\n",
              "2  Morning   Sunny    Moderate     Yes   Normal  Normal  Yes\n",
              "3  Evening   Sunny        Cold     Yes     High  Strong  Yes"
            ]
          },
          "metadata": {
            "tags": []
          },
          "execution_count": 1
        }
      ]
    },
    {
      "cell_type": "code",
      "metadata": {
        "colab": {
          "base_uri": "https://localhost:8080/"
        },
        "id": "8Q9PXTJL-yrv",
        "outputId": "2c6d6dc3-ddf2-4cc2-b089-cef761ee5c76"
      },
      "source": [
        "df.columns"
      ],
      "execution_count": 2,
      "outputs": [
        {
          "output_type": "execute_result",
          "data": {
            "text/plain": [
              "Index(['Time', 'Weather', 'Temperature', 'Company', 'Humidity', ' Wind',\n",
              "       'Goes'],\n",
              "      dtype='object')"
            ]
          },
          "metadata": {
            "tags": []
          },
          "execution_count": 2
        }
      ]
    },
    {
      "cell_type": "code",
      "metadata": {
        "colab": {
          "base_uri": "https://localhost:8080/"
        },
        "id": "qYpZ-9CT-0S3",
        "outputId": "432a5182-446a-44db-f805-ab0f71480f6d"
      },
      "source": [
        "data = df[['Time', 'Weather', 'Temperature', 'Company', 'Humidity', ' Wind']].values\n",
        "print(\"Attributes:\\n\", data)"
      ],
      "execution_count": 3,
      "outputs": [
        {
          "output_type": "stream",
          "text": [
            "Attributes:\n",
            " [['Morning' 'Sunny' 'Warm' 'Yes' 'Mild' 'Strong']\n",
            " ['Evening' 'Rainy' 'Cold' 'No' 'Mild' 'Normal']\n",
            " ['Morning' 'Sunny' 'Moderate' 'Yes' 'Normal' 'Normal']\n",
            " ['Evening' 'Sunny' 'Cold' 'Yes' 'High' 'Strong']]\n"
          ],
          "name": "stdout"
        }
      ]
    },
    {
      "cell_type": "code",
      "metadata": {
        "colab": {
          "base_uri": "https://localhost:8080/"
        },
        "id": "K0I-JS60-15H",
        "outputId": "21163873-b03f-4faf-9f85-cf7aa95faeb2"
      },
      "source": [
        "target = df[['Goes']].values\n",
        "print(\"Target:\\n\", target)"
      ],
      "execution_count": 4,
      "outputs": [
        {
          "output_type": "stream",
          "text": [
            "Target:\n",
            " [['Yes']\n",
            " ['No']\n",
            " ['Yes']\n",
            " ['Yes']]\n"
          ],
          "name": "stdout"
        }
      ]
    },
    {
      "cell_type": "code",
      "metadata": {
        "id": "Uei3Dtgp-4pY"
      },
      "source": [
        "def learn(d, target): \n",
        "    specific = d[0].copy()\n",
        "    print(\"\\nSpecific Hypothesis: \", specific)\n",
        "    general = [[\"?\"]*len(specific) for i in range(len(specific))]\n",
        "    print(\"\\nGeneric Hypothesis: \", general)  \n",
        "\n",
        "    for i, h in enumerate(d):\n",
        "        print(\"\\nIteration\", i+1 , \"is \", h)\n",
        "        if target[i] == \"Yes\":\n",
        "            print(\"Instance is Positive \")\n",
        "            for x in range(len(specific)): \n",
        "                if h[x]!= specific[x]:                    \n",
        "                    specific[x] ='?'                     \n",
        "                    general[x][x] ='?'\n",
        "                   \n",
        "        if target[i] == \"No\":            \n",
        "            print(\"Instance is Negative \")\n",
        "            for x in range(len(specific)): \n",
        "                if h[x]!= specific[x]:                    \n",
        "                    general[x][x] = specific[x]                \n",
        "                else:                    \n",
        "                    general[x][x] = '?'        \n",
        "        \n",
        "        print(\"Specific Hypothesis after \", i+1, \"Instance is \", specific)         \n",
        "        print(\"Generic Hypothesis after \", i+1, \"Instance is \", general)\n",
        "        print(\"\\n\")\n",
        "\n",
        "    indices = [i for i, val in enumerate(general) if val == ['?', '?', '?', '?', '?', '?']]    \n",
        "    for i in indices:   \n",
        "        general.remove(['?', '?', '?', '?', '?', '?']) \n",
        "    return specific, general"
      ],
      "execution_count": 5,
      "outputs": []
    },
    {
      "cell_type": "code",
      "metadata": {
        "colab": {
          "base_uri": "https://localhost:8080/"
        },
        "id": "tlnCrw8E-7En",
        "outputId": "5ad7e60c-85bf-446c-a92a-ae6e3af8887d"
      },
      "source": [
        "specific, general = learn(data, target)\n",
        "\n",
        "print(\"Final Specific Hypothesis: \", '<', ', '.join(specific), '>')\n",
        "print(\"Final General Hypothesis: \")\n",
        "for i in general:\n",
        "  print('<', ', '.join(i),'>, ')"
      ],
      "execution_count": 6,
      "outputs": [
        {
          "output_type": "stream",
          "text": [
            "\n",
            "Specific Hypothesis:  ['Morning' 'Sunny' 'Warm' 'Yes' 'Mild' 'Strong']\n",
            "\n",
            "Generic Hypothesis:  [['?', '?', '?', '?', '?', '?'], ['?', '?', '?', '?', '?', '?'], ['?', '?', '?', '?', '?', '?'], ['?', '?', '?', '?', '?', '?'], ['?', '?', '?', '?', '?', '?'], ['?', '?', '?', '?', '?', '?']]\n",
            "\n",
            "Iteration 1 is  ['Morning' 'Sunny' 'Warm' 'Yes' 'Mild' 'Strong']\n",
            "Instance is Positive \n",
            "Specific Hypothesis after  1 Instance is  ['Morning' 'Sunny' 'Warm' 'Yes' 'Mild' 'Strong']\n",
            "Generic Hypothesis after  1 Instance is  [['?', '?', '?', '?', '?', '?'], ['?', '?', '?', '?', '?', '?'], ['?', '?', '?', '?', '?', '?'], ['?', '?', '?', '?', '?', '?'], ['?', '?', '?', '?', '?', '?'], ['?', '?', '?', '?', '?', '?']]\n",
            "\n",
            "\n",
            "\n",
            "Iteration 2 is  ['Evening' 'Rainy' 'Cold' 'No' 'Mild' 'Normal']\n",
            "Instance is Negative \n",
            "Specific Hypothesis after  2 Instance is  ['Morning' 'Sunny' 'Warm' 'Yes' 'Mild' 'Strong']\n",
            "Generic Hypothesis after  2 Instance is  [['Morning', '?', '?', '?', '?', '?'], ['?', 'Sunny', '?', '?', '?', '?'], ['?', '?', 'Warm', '?', '?', '?'], ['?', '?', '?', 'Yes', '?', '?'], ['?', '?', '?', '?', '?', '?'], ['?', '?', '?', '?', '?', 'Strong']]\n",
            "\n",
            "\n",
            "\n",
            "Iteration 3 is  ['Morning' 'Sunny' 'Moderate' 'Yes' 'Normal' 'Normal']\n",
            "Instance is Positive \n",
            "Specific Hypothesis after  3 Instance is  ['Morning' 'Sunny' '?' 'Yes' '?' '?']\n",
            "Generic Hypothesis after  3 Instance is  [['Morning', '?', '?', '?', '?', '?'], ['?', 'Sunny', '?', '?', '?', '?'], ['?', '?', '?', '?', '?', '?'], ['?', '?', '?', 'Yes', '?', '?'], ['?', '?', '?', '?', '?', '?'], ['?', '?', '?', '?', '?', '?']]\n",
            "\n",
            "\n",
            "\n",
            "Iteration 4 is  ['Evening' 'Sunny' 'Cold' 'Yes' 'High' 'Strong']\n",
            "Instance is Positive \n",
            "Specific Hypothesis after  4 Instance is  ['?' 'Sunny' '?' 'Yes' '?' '?']\n",
            "Generic Hypothesis after  4 Instance is  [['?', '?', '?', '?', '?', '?'], ['?', 'Sunny', '?', '?', '?', '?'], ['?', '?', '?', '?', '?', '?'], ['?', '?', '?', 'Yes', '?', '?'], ['?', '?', '?', '?', '?', '?'], ['?', '?', '?', '?', '?', '?']]\n",
            "\n",
            "\n",
            "Final Specific Hypothesis:  < ?, Sunny, ?, Yes, ?, ? >\n",
            "Final General Hypothesis: \n",
            "< ?, Sunny, ?, ?, ?, ? >, \n",
            "< ?, ?, ?, Yes, ?, ? >, \n"
          ],
          "name": "stdout"
        }
      ]
    }
  ]
}